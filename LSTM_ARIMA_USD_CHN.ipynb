{
 "cells": [
  {
   "cell_type": "code",
   "execution_count": 1,
   "metadata": {},
   "outputs": [
    {
     "name": "stderr",
     "output_type": "stream",
     "text": [
      "Using TensorFlow backend.\n"
     ]
    }
   ],
   "source": [
    "import pandas as pd\n",
    "import matplotlib.pyplot as plt\n",
    "from pandas import datetime\n",
    "import numpy as np\n",
    "from sklearn.metrics import mean_squared_error\n",
    "from sklearn.preprocessing import MinMaxScaler\n",
    "from keras.models import Sequential\n",
    "from keras.layers import LSTM, Dense\n",
    "\n",
    "%matplotlib inline"
   ]
  },
  {
   "cell_type": "markdown",
   "metadata": {},
   "source": [
    "# Read in the data"
   ]
  },
  {
   "cell_type": "code",
   "execution_count": 2,
   "metadata": {},
   "outputs": [
    {
     "name": "stdout",
     "output_type": "stream",
     "text": [
      "DATE\n",
      "2017-05-01    6.8843\n",
      "2017-06-01    6.8066\n",
      "2017-07-01    6.7694\n",
      "2017-08-01    6.6670\n",
      "2017-09-01    6.5144\n",
      "Name: EXCHUS, dtype: float64\n"
     ]
    },
    {
     "data": {
      "text/plain": [
       "<matplotlib.axes._subplots.AxesSubplot at 0x12571bc18>"
      ]
     },
     "execution_count": 2,
     "metadata": {},
     "output_type": "execute_result"
    },
    {
     "data": {
      "image/png": "[encoded data removed]",
      "text/plain": [
       "<matplotlib.figure.Figure at 0x12571b400>"
      ]
     },
     "metadata": {},
     "output_type": "display_data"
    }
   ],
   "source": [
    "series = pd.read_csv('EXCHUS.csv', header=0, index_col=0, squeeze=True)\n",
    "#series.loc[series == '.'] = '0.1'\n",
    "series= pd.to_numeric(series)\n",
    "print (series.tail())\n",
    "series.plot()"
   ]
  },
  {
   "cell_type": "markdown",
   "metadata": {},
   "source": [
    "# Use Augmented Dickey Fuller test to see if the time series has a trend. \n",
    "\n",
    "If p-value > 0.05, then accept null hypothesis that the time series is not stationary\n",
    "\n",
    "If p-value < 0.05, then reject null hypothesis, and the time series is stationary"
   ]
  },
  {
   "cell_type": "code",
   "execution_count": 3,
   "metadata": {},
   "outputs": [
    {
     "name": "stdout",
     "output_type": "stream",
     "text": [
      "p-value is 0.00547\n"
     ]
    },
    {
     "name": "stderr",
     "output_type": "stream",
     "text": [
      "/Users/hechaoli/anaconda/lib/python3.6/site-packages/statsmodels/compat/pandas.py:56: FutureWarning: The pandas.core.datetools module is deprecated and will be removed in a future version. Please use the pandas.tseries module instead.\n",
      "  from pandas.core import datetools\n"
     ]
    }
   ],
   "source": [
    "from statsmodels.tsa.stattools import adfuller\n",
    "X = series.values\n",
    "\n",
    "#try to remove variance using log transform\n",
    "X = np.log(X)\n",
    "result = adfuller(X)\n",
    "print ('p-value is %.5f' % result[1]) #p-value"
   ]
  },
  {
   "cell_type": "markdown",
   "metadata": {},
   "source": [
    "# Differencing:\n",
    "\n",
    "Differencing is a method to remove the time dependence, which includes trends and seasonality."
   ]
  },
  {
   "cell_type": "code",
   "execution_count": 26,
   "metadata": {},
   "outputs": [
    {
     "name": "stdout",
     "output_type": "stream",
     "text": [
      "p-value is 0.00000\n"
     ]
    },
    {
     "data": {
      "image/png": "[encoded data removed]",
      "text/plain": [
       "<matplotlib.figure.Figure at 0x122e51fd0>"
      ]
     },
     "metadata": {},
     "output_type": "display_data"
    }
   ],
   "source": [
    "#manually differencing\n",
    "def difference(dataset, interval=1):\n",
    "    diff = list()\n",
    "    for i in range(interval, len(dataset)):\n",
    "        value = dataset[i] - dataset[i-interval]\n",
    "        diff.append(value)\n",
    "    return pd.Series(diff)\n",
    "\n",
    "diff = difference(X, 1)\n",
    "plt.plot(diff)\n",
    "\n",
    "\"\"\"\n",
    "#using pandas function\n",
    "diff = series.diff() #shift\n",
    "diff.plot()\n",
    "\"\"\"\n",
    "\n",
    "result = adfuller(diff)\n",
    "print ('p-value is %.5f' % result[1]) #p-value"
   ]
  },
  {
   "cell_type": "markdown",
   "metadata": {},
   "source": [
    "# ARIMA model\n",
    "\n",
    "#### AR: Autoregression. Uses the dependent relationship between an observation and some number of lagged observations\n",
    "#### I: Integrated. The use of differencing of raw observations to make the time series stationary\n",
    "#### MA: Moving Average. Uses the dependency between an observation and a residual error from a moving average model applied to lagged observations"
   ]
  },
  {
   "cell_type": "markdown",
   "metadata": {},
   "source": [
    "\n",
    "ARIMA(p,d,q):\n",
    "\n",
    "p: number of lag observations included in the AR model -> lag order\n",
    "\n",
    "d: number of times the raw observations are differenced -> degree of differencing\n",
    "\n",
    "q: size of moving average window -> order of moving average\n",
    "\n",
    "Data need to be stationary inorder to use the linear regression model"
   ]
  },
  {
   "cell_type": "code",
   "execution_count": 6,
   "metadata": {},
   "outputs": [
    {
     "data": {
      "text/plain": [
       "<matplotlib.axes._subplots.AxesSubplot at 0x122578198>"
      ]
     },
     "execution_count": 6,
     "metadata": {},
     "output_type": "execute_result"
    },
    {
     "data": {
      "image/png": "[encoded data removed]",
      "text/plain": [
       "<matplotlib.figure.Figure at 0x11ca59ef0>"
      ]
     },
     "metadata": {},
     "output_type": "display_data"
    }
   ],
   "source": [
    "from pandas.plotting import autocorrelation_plot\n",
    "\n",
    "autocorrelation_plot(series)"
   ]
  },
  {
   "cell_type": "code",
   "execution_count": 11,
   "metadata": {},
   "outputs": [
    {
     "data": {
      "text/plain": [
       "<matplotlib.axes._subplots.AxesSubplot at 0x1066841d0>"
      ]
     },
     "execution_count": 11,
     "metadata": {},
     "output_type": "execute_result"
    },
    {
     "data": {
      "image/png": "[encoded data removed]",
      "text/plain": [
       "<matplotlib.figure.Figure at 0x122821f98>"
      ]
     },
     "metadata": {},
     "output_type": "display_data"
    },
    {
     "data": {
      "image/png": "[encoded data removed]",
      "text/plain": [
       "<matplotlib.figure.Figure at 0x1066d20b8>"
      ]
     },
     "metadata": {},
     "output_type": "display_data"
    }
   ],
   "source": [
    "from statsmodels.tsa.arima_model import ARIMA\n",
    "\n",
    "model = ARIMA(series, order=(12, 1, 0))\n",
    "model_fit = model.fit(disp=0)\n",
    "\n",
    "residuals = pd.DataFrame(model_fit.resid)\n",
    "residuals.plot()\n",
    "residuals.plot(kind='kde')"
   ]
  },
  {
   "cell_type": "code",
   "execution_count": 48,
   "metadata": {
    "scrolled": true
   },
   "outputs": [
    {
     "name": "stdout",
     "output_type": "stream",
     "text": [
      "predicted=6.840, expected=6.827\n",
      "predicted=6.841, expected=6.818\n",
      "predicted=6.832, expected=6.776\n",
      "predicted=6.788, expected=6.787\n",
      "predicted=6.801, expected=6.740\n",
      "predicted=6.751, expected=6.668\n",
      "predicted=6.677, expected=6.654\n",
      "predicted=6.665, expected=6.650\n",
      "predicted=6.663, expected=6.596\n",
      "predicted=6.607, expected=6.576\n",
      "predicted=6.587, expected=6.564\n",
      "predicted=6.577, expected=6.527\n",
      "predicted=6.538, expected=6.496\n",
      "predicted=6.505, expected=6.475\n",
      "predicted=6.486, expected=6.457\n",
      "predicted=6.468, expected=6.404\n",
      "predicted=6.411, expected=6.388\n",
      "predicted=6.399, expected=6.371\n",
      "predicted=6.381, expected=6.356\n",
      "predicted=6.366, expected=6.348\n",
      "predicted=6.359, expected=6.317\n",
      "predicted=6.327, expected=6.300\n",
      "predicted=6.309, expected=6.312\n",
      "predicted=6.324, expected=6.304\n",
      "predicted=6.315, expected=6.324\n",
      "predicted=6.336, expected=6.363\n",
      "predicted=6.376, expected=6.372\n",
      "predicted=6.385, expected=6.359\n",
      "predicted=6.370, expected=6.320\n",
      "predicted=6.329, expected=6.263\n",
      "predicted=6.271, expected=6.234\n",
      "predicted=6.242, expected=6.233\n",
      "predicted=6.243, expected=6.221\n",
      "predicted=6.232, expected=6.232\n",
      "predicted=6.243, expected=6.215\n",
      "predicted=6.226, expected=6.186\n",
      "predicted=6.196, expected=6.142\n",
      "predicted=6.149, expected=6.134\n",
      "predicted=6.143, expected=6.134\n",
      "predicted=6.144, expected=6.121\n",
      "predicted=6.129, expected=6.120\n",
      "predicted=6.129, expected=6.103\n",
      "predicted=6.113, expected=6.093\n",
      "predicted=6.103, expected=6.074\n",
      "predicted=6.083, expected=6.051\n",
      "predicted=6.059, expected=6.082\n",
      "predicted=6.092, expected=6.173\n",
      "predicted=6.188, expected=6.225\n",
      "predicted=6.239, expected=6.238\n",
      "predicted=6.250, expected=6.231\n",
      "predicted=6.241, expected=6.198\n",
      "predicted=6.208, expected=6.154\n",
      "predicted=6.162, expected=6.138\n",
      "predicted=6.147, expected=6.125\n",
      "predicted=6.134, expected=6.125\n",
      "predicted=6.134, expected=6.189\n",
      "predicted=6.203, expected=6.218\n",
      "predicted=6.233, expected=6.252\n",
      "predicted=6.265, expected=6.239\n",
      "predicted=6.248, expected=6.201\n",
      "predicted=6.209, expected=6.204\n",
      "predicted=6.213, expected=6.205\n",
      "predicted=6.214, expected=6.208\n",
      "predicted=6.219, expected=6.338\n",
      "predicted=6.355, expected=6.368\n",
      "predicted=6.381, expected=6.351\n",
      "predicted=6.363, expected=6.364\n",
      "predicted=6.375, expected=6.449\n",
      "predicted=6.466, expected=6.573\n",
      "predicted=6.592, expected=6.550\n",
      "predicted=6.559, expected=6.503\n",
      "predicted=6.512, expected=6.475\n",
      "predicted=6.485, expected=6.526\n",
      "predicted=6.541, expected=6.589\n",
      "predicted=6.607, expected=6.677\n",
      "predicted=6.692, expected=6.647\n",
      "predicted=6.656, expected=6.670\n",
      "predicted=6.684, expected=6.730\n",
      "predicted=6.748, expected=6.840\n",
      "predicted=6.861, expected=6.920\n",
      "predicted=6.935, expected=6.891\n",
      "predicted=6.899, expected=6.869\n",
      "predicted=6.881, expected=6.894\n",
      "predicted=6.909, expected=6.888\n",
      "predicted=6.901, expected=6.884\n",
      "predicted=6.896, expected=6.807\n",
      "predicted=6.810, expected=6.769\n",
      "predicted=6.779, expected=6.667\n",
      "predicted=6.673, expected=6.514\n"
     ]
    }
   ],
   "source": [
    "X = series.values\n",
    "size = int(len(X)*0.8)\n",
    "train, test = X[:size], X[size:]\n",
    "history = [x for x in train]\n",
    "predictions = list()\n",
    "for t in range(len(test)):\n",
    "    model = ARIMA(history, order=(12, 1, 0))\n",
    "    model_fit = model.fit(disp=0)\n",
    "    output = model_fit.forecast()\n",
    "    yhat = output[0]\n",
    "    predictions.append(yhat)\n",
    "    obs = test[t]\n",
    "    history.append(obs)\n",
    "    print('predicted=%.3f, expected=%.3f' % (yhat, obs))"
   ]
  },
  {
   "cell_type": "code",
   "execution_count": 49,
   "metadata": {
    "scrolled": true
   },
   "outputs": [
    {
     "name": "stdout",
     "output_type": "stream",
     "text": [
      "Test MSE: 0.00215\n"
     ]
    },
    {
     "data": {
      "text/plain": [
       "[<matplotlib.lines.Line2D at 0x1242cd208>]"
      ]
     },
     "execution_count": 49,
     "metadata": {},
     "output_type": "execute_result"
    },
    {
     "data": {
      "image/png": "[encoded data removed]",
      "text/plain": [
       "<matplotlib.figure.Figure at 0x1242cd128>"
      ]
     },
     "metadata": {},
     "output_type": "display_data"
    }
   ],
   "source": [
    "error = mean_squared_error(test, predictions)\n",
    "print('Test MSE: %.5f' % error)\n",
    "plt.plot(test)\n",
    "plt.plot(predictions, color='red')"
   ]
  },
  {
   "cell_type": "code",
   "execution_count": 25,
   "metadata": {
    "collapsed": true
   },
   "outputs": [],
   "source": [
    "#transform data to a sequence suit for supervised learning problem\n",
    "\n",
    "def timeseries_to_supervised(data, lag=12):\n",
    "    df = pd.DataFrame(data)\n",
    "    columns = [df.shift(i) for i in range(1, lag+1)]\n",
    "    columns.append(df)\n",
    "    df = pd.concat(columns, axis=1)\n",
    "    df.fillna(0, inplace=True)\n",
    "    return df"
   ]
  },
  {
   "cell_type": "code",
   "execution_count": 21,
   "metadata": {
    "collapsed": true
   },
   "outputs": [],
   "source": [
    "#differencing the data: use difference to remove the trend in the data\n",
    "\n",
    "def difference(dataset, interval=1):\n",
    "    diff = list()\n",
    "    for i in range(interval, len(dataset)):\n",
    "        value = dataset[i] - dataset[i-interval]\n",
    "        diff.append(value)\n",
    "    return pd.Series(diff)"
   ]
  },
  {
   "cell_type": "code",
   "execution_count": 22,
   "metadata": {
    "collapsed": true
   },
   "outputs": [],
   "source": [
    "#invert differenced value\n",
    "\n",
    "def inverse_difference(history, yhat, interval=1):\n",
    "    return yhat + history[-interval]"
   ]
  },
  {
   "cell_type": "code",
   "execution_count": 23,
   "metadata": {
    "collapsed": true
   },
   "outputs": [],
   "source": [
    "#scale the training and test data to (-1,1)\n",
    "\n",
    "def scale(train, test):\n",
    "    #fit scaler\n",
    "    scaler = MinMaxScaler(feature_range=(-1,1))\n",
    "    scaler= scaler.fit(train)\n",
    "    \n",
    "    #transform training data\n",
    "    train = train.reshape(train.shape[0], train.shape[1])\n",
    "    train_scaled = scaler.transform(train)\n",
    "    \n",
    "    #transform test data\n",
    "    test = test.reshape(test.shape[0], test.shape[1])\n",
    "    test_scaled = scaler.transform(test)\n",
    "    \n",
    "    return scaler, train_scaled, test_scaled"
   ]
  },
  {
   "cell_type": "code",
   "execution_count": 24,
   "metadata": {
    "collapsed": true
   },
   "outputs": [],
   "source": [
    "#Invert scaling for a forecastd value\n",
    "def invert_scale(scaler, X, value):\n",
    "    new_row = [x for x in X] + [value]\n",
    "    array = np.array(new_row)\n",
    "    array = array.reshape(1, len(array))\n",
    "    inverted = scaler.inverse_transform(array)\n",
    "    \n",
    "    return inverted[0, -1]"
   ]
  },
  {
   "cell_type": "code",
   "execution_count": 27,
   "metadata": {
    "collapsed": true
   },
   "outputs": [],
   "source": [
    "#Fit an LSTM model to training data\n",
    "\n",
    "def fit_lstm(train, batch_size, nb_epoch, neurons):\n",
    "    X,y = train[:, 0:-1], train[:, -1]\n",
    "    X = X.reshape(X.shape[0], 1, X.shape[1])\n",
    "    model = Sequential()\n",
    "    model.add(LSTM(neurons, batch_input_shape=(batch_size, X.shape[1], X.shape[2]), stateful=True))\n",
    "    model.add(Dense(1))\n",
    "    model.compile(loss='mse', optimizer='adam')\n",
    "    \n",
    "    for i in range(nb_epoch):\n",
    "        model.fit(X, # transform data to be stationary\n",
    "\n",
    "raw_values = series.values\n",
    "diff_values = difference(raw_values, 1)\n",
    "\n",
    "# transform the data to be supervised learning\n",
    "\n",
    "supervised = timeseries_to_supervised(diff_values, 1)\n",
    "supervised_values = supervised.values\n",
    "\n",
    "# spit data into training and test set\n",
    "\n",
    "train, test = supervised_values[0:-12], supervised_values[-12:]\n",
    "#print (train)\n",
    "\n",
    "# Transform the scale of the data to [-1,1]\n",
    "\n",
    "scaler, train_scaled, test_scaled = scale(train, test)\n",
    "\n",
    "#fit the model\n",
    "\n",
    "lstm_model = fit_lstm(train_scaled, 1, 2500, 4)\n",
    "\n",
    "# forecast the entire training dataset to build up state for forecasting\n",
    "\n",
    "train_reshaped = train_scaled[:, 0].reshape(len(train_scaled), 1, 1)\n",
    "lstm_model.predict(train_reshaped, batch_size=1)y, epochs=1, batch_size=batch_size, verbose=0, shuffle=False) #we need the data in sequential order\n",
    "        model.reset_states()\n",
    "    \n",
    "    return model"
   ]
  },
  {
   "cell_type": "code",
   "execution_count": 32,
   "metadata": {
    "collapsed": true
   },
   "outputs": [],
   "source": [
    "#make one-step forecast\n",
    "\n",
    "def forecast_lstm(model, batch_size, X):\n",
    "    X = X.reshape(1, 1, len(X))\n",
    "    yhat = model.predict(X, batch_size=batch_size)\n",
    "    return yhat[0,0]"
   ]
  },
  {
   "cell_type": "code",
   "execution_count": 33,
   "metadata": {
    "collapsed": true
   },
   "outputs": [],
   "source": [
    "# transform data to be stationary\n",
    "\n",
    "raw_values = series.values\n",
    "diff_values = difference(raw_values, 1)"
   ]
  },
  {
   "cell_type": "code",
   "execution_count": 35,
   "metadata": {
    "collapsed": true
   },
   "outputs": [],
   "source": [
    "# transform the data to be supervised learning\n",
    "\n",
    "supervised = timeseries_to_supervised(diff_values, 1)\n",
    "supervised_values = supervised.values"
   ]
  },
  {
   "cell_type": "code",
   "execution_count": 36,
   "metadata": {
    "collapsed": true
   },
   "outputs": [],
   "source": [
    "# spit data into training and test set\n",
    "\n",
    "train, test = supervised_values[0:size], supervised_values[size:]\n",
    "#print (train)"
   ]
  },
  {
   "cell_type": "code",
   "execution_count": 37,
   "metadata": {
    "collapsed": true
   },
   "outputs": [],
   "source": [
    "# Transform the scale of the data to [-1,1]\n",
    "\n",
    "scaler, train_scaled, test_scaled = scale(train, test)"
   ]
  },
  {
   "cell_type": "code",
   "execution_count": 38,
   "metadata": {
    "collapsed": true
   },
   "outputs": [],
   "source": [
    "#fit the model\n",
    "\n",
    "lstm_model = fit_lstm(train_scaled, 1, 200, 6)"
   ]
  },
  {
   "cell_type": "code",
   "execution_count": 39,
   "metadata": {},
   "outputs": [
    {
     "data": {
      "text/plain": [
       "array([[-0.85458052],\n",
       "       [-0.87493575],\n",
       "       [-0.90505528],\n",
       "       [-0.90244716],\n",
       "       [-0.89840901],\n",
       "       [-0.90674996],\n",
       "       [-0.91370726],\n",
       "       [-0.90624285],\n",
       "       [-0.92964184],\n",
       "       [-0.91418213],\n",
       "       [-0.92388999],\n",
       "       [-0.91936398],\n",
       "       [-0.91330844],\n",
       "       [-0.91135269],\n",
       "       [-0.91902494],\n",
       "       [-0.91975129],\n",
       "       [-0.93440908],\n",
       "       [-0.89727169],\n",
       "       [-0.92281532],\n",
       "       [-0.92136544],\n",
       "       [-0.92071486],\n",
       "       [-0.91669726],\n",
       "       [-0.92336422],\n",
       "       [-0.93896246],\n",
       "       [-0.92573309],\n",
       "       [-0.913378  ],\n",
       "       [-0.9239043 ],\n",
       "       [-0.92350966],\n",
       "       [-0.92693347],\n",
       "       [-0.92368096],\n",
       "       [-0.92556369],\n",
       "       [-0.92887962],\n",
       "       [-0.92422289],\n",
       "       [-0.93129009],\n",
       "       [-0.91744137],\n",
       "       [-0.92875946],\n",
       "       [-0.9113332 ],\n",
       "       [-0.92685521],\n",
       "       [-0.92622626],\n",
       "       [-0.91892773],\n",
       "       [-0.90495211],\n",
       "       [-0.92519152],\n",
       "       [-0.9072938 ],\n",
       "       [-0.9140504 ],\n",
       "       [-0.88820487],\n",
       "       [-0.91364443],\n",
       "       [-0.92454576],\n",
       "       [-0.89863747],\n",
       "       [-0.92931318],\n",
       "       [-0.92200953],\n",
       "       [-0.9225685 ],\n",
       "       [-0.92884469],\n",
       "       [-0.92375833],\n",
       "       [-0.92343646],\n",
       "       [-0.92437983],\n",
       "       [-0.91991585],\n",
       "       [-0.9126327 ],\n",
       "       [-0.90459371],\n",
       "       [-0.90178573],\n",
       "       [-0.93458223],\n",
       "       [-0.92520332],\n",
       "       [-0.92481709],\n",
       "       [-0.925677  ],\n",
       "       [-0.92820787],\n",
       "       [-0.92918634],\n",
       "       [-0.92298704],\n",
       "       [-0.82479519],\n",
       "       [-0.94226611],\n",
       "       [-0.92675716],\n",
       "       [-0.92307878],\n",
       "       [-0.92618155],\n",
       "       [-0.92683488],\n",
       "       [-0.92645538],\n",
       "       [-0.92653012],\n",
       "       [-0.92652869],\n",
       "       [-0.92652595],\n",
       "       [-0.92652947],\n",
       "       [-0.92653191],\n",
       "       [-0.92653483],\n",
       "       [-0.92653805],\n",
       "       [-0.92654139],\n",
       "       [-0.92654467],\n",
       "       [-0.92654788],\n",
       "       [-0.92655104],\n",
       "       [-0.92655402],\n",
       "       [-0.92655683],\n",
       "       [-0.92655957],\n",
       "       [-0.92656195],\n",
       "       [-0.9265644 ],\n",
       "       [-0.92656648],\n",
       "       [-0.92656845],\n",
       "       [-0.92657036],\n",
       "       [-0.92657202],\n",
       "       [-0.92657363],\n",
       "       [-0.92657501],\n",
       "       [-0.9265762 ],\n",
       "       [-0.92657751],\n",
       "       [-0.92657846],\n",
       "       [-0.92657948],\n",
       "       [-0.92658043],\n",
       "       [-0.9265812 ],\n",
       "       [-0.92658192],\n",
       "       [-0.92658252],\n",
       "       [-0.92658317],\n",
       "       [-0.92658377],\n",
       "       [-0.92658418],\n",
       "       [-0.92658454],\n",
       "       [-0.81963485],\n",
       "       [-0.84739572],\n",
       "       [-0.95627898],\n",
       "       [-0.92345768],\n",
       "       [-0.92687577],\n",
       "       [-0.92732263],\n",
       "       [-0.92681599],\n",
       "       [-0.92683041],\n",
       "       [-0.92677736],\n",
       "       [-0.92666107],\n",
       "       [-0.92680728],\n",
       "       [-0.86857992],\n",
       "       [-0.88319123],\n",
       "       [-0.94288814],\n",
       "       [-0.92443371],\n",
       "       [-0.9265976 ],\n",
       "       [-0.91661811],\n",
       "       [-0.91758776],\n",
       "       [-0.91978842],\n",
       "       [-0.92855799],\n",
       "       [-0.92566007],\n",
       "       [-0.92322105],\n",
       "       [-0.92651647],\n",
       "       [-0.92492193],\n",
       "       [-0.92115772],\n",
       "       [-0.91867954],\n",
       "       [-0.92533445],\n",
       "       [-0.92503655],\n",
       "       [-0.92143673],\n",
       "       [-0.9261291 ],\n",
       "       [-0.93428767],\n",
       "       [-0.93260986],\n",
       "       [-0.928114  ],\n",
       "       [-0.90992165],\n",
       "       [-0.92061764],\n",
       "       [-0.91317111],\n",
       "       [-0.88292432],\n",
       "       [-0.94814533],\n",
       "       [-0.9207052 ],\n",
       "       [-0.9377082 ],\n",
       "       [-0.93005008],\n",
       "       [-0.92022365],\n",
       "       [-0.92555809],\n",
       "       [-0.92095536],\n",
       "       [-0.92458767],\n",
       "       [-0.92477578],\n",
       "       [-0.92730516],\n",
       "       [-0.92464739],\n",
       "       [-0.92401761],\n",
       "       [-0.9522351 ],\n",
       "       [-0.94226348],\n",
       "       [-0.94874024],\n",
       "       [-0.93565118],\n",
       "       [-0.94044435],\n",
       "       [-0.92878455],\n",
       "       [-0.93432218],\n",
       "       [-0.93932819],\n",
       "       [-0.93623263],\n",
       "       [-0.92693955],\n",
       "       [-0.93016964],\n",
       "       [-0.93468696],\n",
       "       [-0.93522674],\n",
       "       [-0.92564553],\n",
       "       [-0.92866749],\n",
       "       [-0.92798835],\n",
       "       [-0.95253819],\n",
       "       [-0.92328215],\n",
       "       [-0.92640334],\n",
       "       [-0.92590106],\n",
       "       [-0.92390603],\n",
       "       [-0.92807078],\n",
       "       [-0.92686146],\n",
       "       [-0.92608899],\n",
       "       [-0.92592371],\n",
       "       [-0.92802626],\n",
       "       [-0.92226821],\n",
       "       [-0.92732984],\n",
       "       [-0.92754334],\n",
       "       [-0.92766947],\n",
       "       [-0.92661357],\n",
       "       [-0.92730027],\n",
       "       [-0.92735374],\n",
       "       [-0.92739755],\n",
       "       [-0.92644209],\n",
       "       [-0.92669827],\n",
       "       [-0.92733127],\n",
       "       [-0.92720127],\n",
       "       [-0.92558241],\n",
       "       [-0.92688495],\n",
       "       [-0.92726743],\n",
       "       [-0.92649567],\n",
       "       [-0.9281497 ],\n",
       "       [-0.92549533],\n",
       "       [-0.9272359 ],\n",
       "       [-0.92737007],\n",
       "       [-0.92697692],\n",
       "       [-0.92668337],\n",
       "       [-0.92666644],\n",
       "       [-0.92711776],\n",
       "       [-0.92632395],\n",
       "       [-0.92709386],\n",
       "       [-0.92579311],\n",
       "       [-0.92639238],\n",
       "       [-0.92669058],\n",
       "       [-0.92656672],\n",
       "       [-0.92772835],\n",
       "       [-0.93321872],\n",
       "       [-0.92456019],\n",
       "       [-0.92678356],\n",
       "       [-0.92642587],\n",
       "       [-0.92682731],\n",
       "       [-0.92624509],\n",
       "       [-0.92667508],\n",
       "       [-0.92675644],\n",
       "       [-0.92665732],\n",
       "       [-0.92665803],\n",
       "       [-0.92666382],\n",
       "       [-0.92651021],\n",
       "       [-0.92658132],\n",
       "       [-0.9264167 ],\n",
       "       [-0.92633539],\n",
       "       [-0.92672336],\n",
       "       [-0.92683977],\n",
       "       [-0.92637837],\n",
       "       [-0.92646009],\n",
       "       [-0.92694265],\n",
       "       [-0.92671722],\n",
       "       [-0.92597294],\n",
       "       [-0.92671543],\n",
       "       [-0.92686313],\n",
       "       [-0.92649835],\n",
       "       [-0.92687905],\n",
       "       [-0.92658305],\n",
       "       [-0.92644751],\n",
       "       [-0.92675811],\n",
       "       [-0.92644429],\n",
       "       [-0.92672336],\n",
       "       [-0.92658144],\n",
       "       [-0.92658287],\n",
       "       [-0.92661607],\n",
       "       [-0.92655516],\n",
       "       [-0.92664754],\n",
       "       [-0.92657262],\n",
       "       [-0.92656457],\n",
       "       [-0.92672324],\n",
       "       [-0.92637211],\n",
       "       [-0.92674708],\n",
       "       [-0.92640114],\n",
       "       [-0.9266609 ],\n",
       "       [-0.92662793],\n",
       "       [-0.9266485 ],\n",
       "       [-0.92654318],\n",
       "       [-0.92662424],\n",
       "       [-0.92650455],\n",
       "       [-0.926561  ],\n",
       "       [-0.92660141],\n",
       "       [-0.92645943],\n",
       "       [-0.92667705],\n",
       "       [-0.92644256],\n",
       "       [-0.92680448],\n",
       "       [-0.92655742],\n",
       "       [-0.92666185],\n",
       "       [-0.92651802],\n",
       "       [-0.92655498],\n",
       "       [-0.92667854],\n",
       "       [-0.92651278],\n",
       "       [-0.92670745],\n",
       "       [-0.92653191],\n",
       "       [-0.92657351],\n",
       "       [-0.92659622],\n",
       "       [-0.92656159],\n",
       "       [-0.92659611],\n",
       "       [-0.92663836],\n",
       "       [-0.92652255],\n",
       "       [-0.92670685],\n",
       "       [-0.92655683],\n",
       "       [-0.92656612],\n",
       "       [-0.92662251],\n",
       "       [-0.9266302 ],\n",
       "       [-0.92657411],\n",
       "       [-0.9265905 ],\n",
       "       [-0.92658877],\n",
       "       [-0.92658824],\n",
       "       [-0.92658859],\n",
       "       [-0.92658848],\n",
       "       [-0.92658848],\n",
       "       [-0.92658848],\n",
       "       [-0.93919396],\n",
       "       [-0.95428205],\n",
       "       [-0.92022556],\n",
       "       [-0.92766637],\n",
       "       [-0.92809969],\n",
       "       [-0.9282378 ],\n",
       "       [-0.92856419],\n",
       "       [-0.92948484],\n",
       "       [-0.92969441],\n",
       "       [-0.93071598],\n",
       "       [-0.92549688],\n",
       "       [-0.92893904],\n",
       "       [-0.92959887],\n",
       "       [-0.92996329],\n",
       "       [-0.93518656],\n",
       "       [-0.93180788],\n",
       "       [-0.93455672],\n",
       "       [-0.93410957],\n",
       "       [-0.9325822 ],\n",
       "       [-0.93384576],\n",
       "       [-0.92747539],\n",
       "       [-0.92902327],\n",
       "       [-0.93776357],\n",
       "       [-0.93421525],\n",
       "       [-0.93824476],\n",
       "       [-0.92331403],\n",
       "       [-0.94016856],\n",
       "       [-0.92755169],\n",
       "       [-0.94596982],\n",
       "       [-0.93412012],\n",
       "       [-0.95558846],\n",
       "       [-0.93689448],\n",
       "       [-0.94536   ],\n",
       "       [-0.93889505],\n",
       "       [-0.92886603],\n",
       "       [-0.94380271],\n",
       "       [-0.9374963 ],\n",
       "       [-0.91970068],\n",
       "       [-0.93201768],\n",
       "       [-0.92404664],\n",
       "       [-0.92897093],\n",
       "       [-0.91944426],\n",
       "       [-0.93309098],\n",
       "       [-0.92493701],\n",
       "       [-0.92676574],\n",
       "       [-0.92798299],\n",
       "       [-0.92793763],\n",
       "       [-0.92358518],\n",
       "       [-0.92783481],\n",
       "       [-0.92622042],\n",
       "       [-0.92778248],\n",
       "       [-0.92649841],\n",
       "       [-0.92644173],\n",
       "       [-0.92653269],\n",
       "       [-0.92676097],\n",
       "       [-0.92613053],\n",
       "       [-0.92729521],\n",
       "       [-0.92655164]], dtype=float32)"
      ]
     },
     "execution_count": 39,
     "metadata": {},
     "output_type": "execute_result"
    }
   ],
   "source": [
    "# forecast the entire training dataset to build up state for forecasting\n",
    "\n",
    "train_reshaped = train_scaled[:, 0].reshape(len(train_scaled), 1, 1)\n",
    "lstm_model.predict(train_reshaped, batch_size=1)"
   ]
  },
  {
   "cell_type": "code",
   "execution_count": 40,
   "metadata": {
    "scrolled": true
   },
   "outputs": [
    {
     "name": "stdout",
     "output_type": "stream",
     "text": [
      "Month=1, Predicted=6.811742, Expected=6.818400\n",
      "Month=2, Predicted=6.798153, Expected=6.776200\n",
      "Month=3, Predicted=6.744657, Expected=6.787300\n",
      "Month=4, Predicted=6.779684, Expected=6.739600\n",
      "Month=5, Predicted=6.703011, Expected=6.667800\n",
      "Month=6, Predicted=6.629329, Expected=6.653800\n",
      "Month=7, Predicted=6.639498, Expected=6.649700\n",
      "Month=8, Predicted=6.632048, Expected=6.596400\n",
      "Month=9, Predicted=6.559686, Expected=6.576100\n",
      "Month=10, Predicted=6.557878, Expected=6.564500\n",
      "Month=11, Predicted=6.545111, Expected=6.526700\n",
      "Month=12, Predicted=6.496657, Expected=6.495700\n",
      "Month=13, Predicted=6.471516, Expected=6.474600\n",
      "Month=14, Predicted=6.453019, Expected=6.457500\n",
      "Month=15, Predicted=6.436339, Expected=6.403600\n",
      "Month=16, Predicted=6.368145, Expected=6.388500\n",
      "Month=17, Predicted=6.372084, Expected=6.371000\n",
      "Month=18, Predicted=6.348759, Expected=6.356400\n",
      "Month=19, Predicted=6.335967, Expected=6.348200\n",
      "Month=20, Predicted=6.330014, Expected=6.317200\n",
      "Month=21, Predicted=6.289555, Expected=6.299700\n",
      "Month=22, Predicted=6.279904, Expected=6.312500\n",
      "Month=23, Predicted=6.302488, Expected=6.304300\n",
      "Month=24, Predicted=6.282842, Expected=6.324200\n",
      "Month=25, Predicted=6.316434, Expected=6.363300\n",
      "Month=26, Predicted=6.359351, Expected=6.371700\n",
      "Month=27, Predicted=6.354121, Expected=6.359300\n",
      "Month=28, Predicted=6.337694, Expected=6.320000\n",
      "Month=29, Predicted=6.290098, Expected=6.262700\n",
      "Month=30, Predicted=6.228573, Expected=6.233800\n",
      "Month=31, Predicted=6.212163, Expected=6.232800\n",
      "Month=32, Predicted=6.218291, Expected=6.221500\n",
      "Month=33, Predicted=6.200262, Expected=6.232300\n",
      "Month=34, Predicted=6.221196, Expected=6.215400\n",
      "Month=35, Predicted=6.191043, Expected=6.186100\n",
      "Month=36, Predicted=6.160443, Expected=6.141600\n",
      "Month=37, Predicted=6.111251, Expected=6.134200\n",
      "Month=38, Predicted=6.119430, Expected=6.134300\n",
      "Month=39, Predicted=6.118016, Expected=6.121300\n",
      "Month=40, Predicted=6.099603, Expected=6.119800\n",
      "Month=41, Predicted=6.104223, Expected=6.103200\n",
      "Month=42, Predicted=6.080339, Expected=6.092900\n",
      "Month=43, Predicted=6.074277, Expected=6.073800\n",
      "Month=44, Predicted=6.050958, Expected=6.050900\n",
      "Month=45, Predicted=6.027628, Expected=6.081600\n",
      "Month=46, Predicted=6.079218, Expected=6.172900\n",
      "Month=47, Predicted=6.187077, Expected=6.224600\n",
      "Month=48, Predicted=6.217440, Expected=6.238000\n",
      "Month=49, Predicted=6.222061, Expected=6.230600\n",
      "Month=50, Predicted=6.210587, Expected=6.198400\n",
      "Month=51, Predicted=6.170625, Expected=6.154100\n",
      "Month=52, Predicted=6.124208, Expected=6.138200\n",
      "Month=53, Predicted=6.120136, Expected=6.125100\n",
      "Month=54, Predicted=6.104677, Expected=6.124900\n",
      "Month=55, Predicted=6.109474, Expected=6.188600\n",
      "Month=56, Predicted=6.196241, Expected=6.218100\n",
      "Month=57, Predicted=6.205381, Expected=6.251800\n",
      "Month=58, Predicted=6.245581, Expected=6.238600\n",
      "Month=59, Predicted=6.213769, Expected=6.201000\n",
      "Month=60, Predicted=6.172075, Expected=6.203500\n",
      "Month=61, Predicted=6.192037, Expected=6.205200\n",
      "Month=62, Predicted=6.188448, Expected=6.208500\n",
      "Month=63, Predicted=6.192974, Expected=6.338300\n",
      "Month=64, Predicted=6.370515, Expected=6.367600\n",
      "Month=65, Predicted=6.347179, Expected=6.350500\n",
      "Month=66, Predicted=6.325956, Expected=6.364000\n",
      "Month=67, Predicted=6.355211, Expected=6.449100\n",
      "Month=68, Predicted=6.462807, Expected=6.572600\n",
      "Month=69, Predicted=6.592384, Expected=6.550100\n",
      "Month=70, Predicted=6.512527, Expected=6.502700\n",
      "Month=71, Predicted=6.472383, Expected=6.475400\n",
      "Month=72, Predicted=6.453656, Expected=6.525900\n",
      "Month=73, Predicted=6.530828, Expected=6.589200\n",
      "Month=74, Predicted=6.590305, Expected=6.677100\n",
      "Month=75, Predicted=6.686962, Expected=6.646600\n",
      "Month=76, Predicted=6.609631, Expected=6.670200\n",
      "Month=77, Predicted=6.667230, Expected=6.730300\n",
      "Month=78, Predicted=6.733516, Expected=6.840200\n",
      "Month=79, Predicted=6.857969, Expected=6.919800\n",
      "Month=80, Predicted=6.921340, Expected=6.890700\n",
      "Month=81, Predicted=6.855899, Expected=6.869400\n",
      "Month=82, Predicted=6.849161, Expected=6.894000\n",
      "Month=83, Predicted=6.888855, Expected=6.887600\n",
      "Month=84, Predicted=6.865304, Expected=6.884300\n",
      "Month=85, Predicted=6.867511, Expected=6.806600\n",
      "Month=86, Predicted=6.760842, Expected=6.769400\n",
      "Month=87, Predicted=6.747296, Expected=6.667000\n",
      "Month=88, Predicted=6.614548, Expected=6.514400\n"
     ]
    }
   ],
   "source": [
    "# walk-forward validation on the test data\n",
    "\n",
    "predictions = list()\n",
    "\n",
    "for i in range(len(test_scaled)):\n",
    "    \n",
    "    #make one-step forecast\n",
    "    X, y = test_scaled[i, 0:-1], test_scaled[i, -1]\n",
    "    yhat = forecast_lstm(lstm_model, 1, X)\n",
    "    \n",
    "    #invert scaling\n",
    "    yhat = invert_scale(scaler, X, yhat)\n",
    "    \n",
    "    #invert differencing\n",
    "    yhat = inverse_difference(raw_values, yhat, len(test_scaled)+1-i)\n",
    "    \n",
    "    #store forecast\n",
    "    predictions.append(yhat)\n",
    "    expected = raw_values[len(train)+i+1]\n",
    "    print('Month=%d, Predicted=%f, Expected=%f' % (i+1, yhat, expected))"
   ]
  },
  {
   "cell_type": "code",
   "execution_count": 47,
   "metadata": {},
   "outputs": [
    {
     "name": "stdout",
     "output_type": "stream",
     "text": [
      "Test MSE: 0.00175\n"
     ]
    },
    {
     "data": {
      "text/plain": [
       "[<matplotlib.lines.Line2D at 0x1240e7390>]"
      ]
     },
     "execution_count": 47,
     "metadata": {},
     "output_type": "execute_result"
    },
    {
     "data": {
      "image/png": "[encoded data removed]",
      "text/plain": [
       "<matplotlib.figure.Figure at 0x1240e76a0>"
      ]
     },
     "metadata": {},
     "output_type": "display_data"
    }
   ],
   "source": [
    "error = mean_squared_error(raw_values[size+1:], predictions)\n",
    "print('Test MSE: %.5f' % error)\n",
    "plt.plot(raw_values[size+1:])\n",
    "plt.plot(predictions, color='red')"
   ]
  }
 ],
 "metadata": {
  "kernelspec": {
   "display_name": "Python 3",
   "language": "python",
   "name": "python3"
  },
  "language_info": {
   "codemirror_mode": {
    "name": "ipython",
    "version": 3
   },
   "file_extension": ".py",
   "mimetype": "text/x-python",
   "name": "python",
   "nbconvert_exporter": "python",
   "pygments_lexer": "ipython3",
   "version": "3.6.1"
  }
 },
 "nbformat": 4,
 "nbformat_minor": 2
}
