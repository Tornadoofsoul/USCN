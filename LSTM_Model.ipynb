{
 "cells": [
  {
   "cell_type": "code",
   "execution_count": 1,
   "metadata": {},
   "outputs": [
    {
     "name": "stderr",
     "output_type": "stream",
     "text": [
      "Using TensorFlow backend.\n",
      "/home/hechaoli/anaconda2/lib/python2.7/site-packages/statsmodels/compat/pandas.py:56: FutureWarning: The pandas.core.datetools module is deprecated and will be removed in a future version. Please use the pandas.tseries module instead.\n",
      "  from pandas.core import datetools\n"
     ]
    }
   ],
   "source": [
    "import pandas as pd\n",
    "import matplotlib.pyplot as plt\n",
    "from pandas import datetime\n",
    "import numpy as np\n",
    "from sklearn.metrics import mean_squared_error\n",
    "from sklearn.preprocessing import MinMaxScaler\n",
    "from keras.models import Sequential\n",
    "from keras.layers.core import Dense, Dropout, Activation\n",
    "from keras.layers.recurrent import LSTM\n",
    "from statsmodels.tsa.stattools import adfuller\n",
    "\n",
    "%matplotlib inline"
   ]
  },
  {
   "cell_type": "markdown",
   "metadata": {},
   "source": [
    "# Read in the data"
   ]
  },
  {
   "cell_type": "code",
   "execution_count": 2,
   "metadata": {},
   "outputs": [
    {
     "name": "stdout",
     "output_type": "stream",
     "text": [
      "DATE\n",
      "2017-05-01    6.8843\n",
      "2017-06-01    6.8066\n",
      "2017-07-01    6.7694\n",
      "2017-08-01    6.6670\n",
      "2017-09-01    6.5144\n",
      "Name: EXCHUS, dtype: float64\n"
     ]
    },
    {
     "data": {
      "text/plain": [
       "<matplotlib.axes._subplots.AxesSubplot at 0x7fac0d45ea50>"
      ]
     },
     "execution_count": 2,
     "metadata": {},
     "output_type": "execute_result"
    },
    {
     "data": {
      "image/png": "[encoded data removed]",
      "text/plain": [
       "<matplotlib.figure.Figure at 0x7fac0d45e210>"
      ]
     },
     "metadata": {},
     "output_type": "display_data"
    }
   ],
   "source": [
    "series = pd.read_csv('EXCHUS.csv', header=0, index_col=0, squeeze=True)\n",
    "#series.loc[series == '.'] = '0.1'\n",
    "series= pd.to_numeric(series)\n",
    "print (series.tail())\n",
    "series.plot()"
   ]
  },
  {
   "cell_type": "markdown",
   "metadata": {},
   "source": [
    "# Use Augmented Dickey Fuller test to see if the time series has a trend. \n",
    "\n",
    "If p-value > 0.05, then accept null hypothesis that the time series is not stationary\n",
    "\n",
    "If p-value < 0.05, then reject null hypothesis, and the time series is stationary"
   ]
  },
  {
   "cell_type": "code",
   "execution_count": 3,
   "metadata": {},
   "outputs": [
    {
     "name": "stdout",
     "output_type": "stream",
     "text": [
      "p-value is 0.00547\n"
     ]
    }
   ],
   "source": [
    "X = series.values\n",
    "\n",
    "#try to remove variance using log transform\n",
    "X = np.log(X)\n",
    "result = adfuller(X)\n",
    "print ('p-value is %.5f' % result[1]) #p-value"
   ]
  },
  {
   "cell_type": "markdown",
   "metadata": {},
   "source": [
    "# Differencing:\n",
    "\n",
    "Differencing is a method to remove the time dependence, which includes trends and seasonality."
   ]
  },
  {
   "cell_type": "code",
   "execution_count": 4,
   "metadata": {},
   "outputs": [
    {
     "name": "stdout",
     "output_type": "stream",
     "text": [
      "p-value is 0.00000\n"
     ]
    },
    {
     "data": {
      "image/png": "[encoded data removed]",
      "text/plain": [
       "<matplotlib.figure.Figure at 0x7fabc8a3a550>"
      ]
     },
     "metadata": {},
     "output_type": "display_data"
    }
   ],
   "source": [
    "#manually differencing the data\n",
    "def difference(dataset, interval=1):\n",
    "    diff = list()\n",
    "    for i in range(interval, len(dataset)):\n",
    "        value = dataset[i] - dataset[i-interval]\n",
    "        diff.append(value)\n",
    "    return pd.Series(diff)\n",
    "\n",
    "diff = difference(X, 1)\n",
    "plt.plot(diff)\n",
    "\n",
    "\"\"\"\n",
    "#using pandas function\n",
    "diff = series.diff() #shift\n",
    "diff.plot()\n",
    "\"\"\"\n",
    "\n",
    "result = adfuller(diff)\n",
    "print ('p-value is %.5f' % result[1]) #p-value"
   ]
  },
  {
   "cell_type": "code",
   "execution_count": 77,
   "metadata": {
    "collapsed": true
   },
   "outputs": [],
   "source": [
    "#invert differenced value\n",
    "\n",
    "def inverse_difference(history, yhat, interval=1):\n",
    "    return yhat + history[-interval]"
   ]
  },
  {
   "cell_type": "markdown",
   "metadata": {},
   "source": [
    "# Scaling the data to [-1, 1]"
   ]
  },
  {
   "cell_type": "code",
   "execution_count": 6,
   "metadata": {
    "collapsed": true
   },
   "outputs": [],
   "source": [
    "#scale the training and test data to (-1,1)\n",
    "\n",
    "def scale(train, test):\n",
    "    #fit scaler\n",
    "    scaler = MinMaxScaler(feature_range=(-1,1))\n",
    "    scaler= scaler.fit(train)\n",
    "    \n",
    "    #transform training data\n",
    "    train = train.reshape(train.shape[0], train.shape[1])\n",
    "    train_scaled = scaler.transform(train)\n",
    "    \n",
    "    #transform test data\n",
    "    test = test.reshape(test.shape[0], test.shape[1])\n",
    "    test_scaled = scaler.transform(test)\n",
    "    \n",
    "    return scaler, train_scaled, test_scaled"
   ]
  },
  {
   "cell_type": "code",
   "execution_count": 64,
   "metadata": {
    "collapsed": true
   },
   "outputs": [],
   "source": [
    "#Invert scaling for a forecastd value\n",
    "def invert_scale(scaler, value1, value2):\n",
    "    new_row = [value1] + [value2]\n",
    "    array = np.array(new_row)\n",
    "    # print array.shape\n",
    "    array = array.reshape(1, len(array))\n",
    "    # print array.shape\n",
    "    inverted = scaler.inverse_transform(array)\n",
    "    \n",
    "    return inverted[0, -1]"
   ]
  },
  {
   "cell_type": "markdown",
   "metadata": {},
   "source": [
    "# Generating labels"
   ]
  },
  {
   "cell_type": "code",
   "execution_count": 8,
   "metadata": {
    "collapsed": true
   },
   "outputs": [],
   "source": [
    "#transform data to a sequence suit for supervised learning problem\n",
    "def timeseries_to_supervised(data, lag=1):\n",
    "    df = pd.DataFrame(data)\n",
    "    columns = [df.shift(i) for i in range(1, lag+1)]\n",
    "    columns.append(df)\n",
    "    df = pd.concat(columns, axis=1)\n",
    "    df.fillna(0, inplace=True)\n",
    "    return df"
   ]
  },
  {
   "cell_type": "markdown",
   "metadata": {},
   "source": [
    "# Build LSTM Model in Keras"
   ]
  },
  {
   "cell_type": "code",
   "execution_count": 9,
   "metadata": {
    "collapsed": true
   },
   "outputs": [],
   "source": [
    "#let's try a 2-layer lstm model\n",
    "\n",
    "def build_lstm(layers):\n",
    "    model = Sequential()\n",
    "    \n",
    "    #LSTM(units=50, return_sequences=True, input_shape=(None, 1))\n",
    "    model.add(LSTM(units = layers[1],\n",
    "                   return_sequences=True,\n",
    "                   input_shape = (None, 1)))\n",
    "    model.add(Dropout(0.2))\n",
    "    \n",
    "    model.add(LSTM(layers[2],\n",
    "                   return_sequences=False))\n",
    "    model.add(Dropout(0.2))\n",
    "    \n",
    "    model.add(Dense(1))\n",
    "    model.add(Activation('linear'))\n",
    "    model.compile(loss='mse', optimizer='adam')\n",
    "    \n",
    "    return model"
   ]
  },
  {
   "cell_type": "code",
   "execution_count": 10,
   "metadata": {
    "collapsed": true
   },
   "outputs": [],
   "source": [
    "def predict(model, data):\n",
    "    predicted = model.predict(data)\n",
    "    predicted = np.reshape(predicted, (predicted.size,))\n",
    "    return predicted"
   ]
  },
  {
   "cell_type": "markdown",
   "metadata": {},
   "source": [
    "# Prepare the data"
   ]
  },
  {
   "cell_type": "code",
   "execution_count": 95,
   "metadata": {},
   "outputs": [
    {
     "name": "stdout",
     "output_type": "stream",
     "text": [
      "(440, 2)\n",
      "(88, 1)\n",
      "(352, 1, 1)\n",
      "(88, 1, 1)\n"
     ]
    }
   ],
   "source": [
    "X = series.values\n",
    "\n",
    "# log transform the data\n",
    "X = np.log(X)\n",
    "\n",
    "#differencing the data\n",
    "diff_values = difference(X, 1)\n",
    "\n",
    "# transform the data to be supervised learning\n",
    "supervised = timeseries_to_supervised(diff_values, 1)\n",
    "supervised_values = supervised.values\n",
    "print supervised_values.shape\n",
    "\n",
    "#spit data into training and test set\n",
    "size = int(len(diff)*0.8) #80/20 split\n",
    "train, test = supervised_values[:size], supervised_values[size:]\n",
    "\n",
    "#scale to [-1,1]\n",
    "scaler, train_scaled, test_scaled = scale(train, test)\n",
    "\n",
    "#prepare data for the model\n",
    "X_train, Y_train = train_scaled[:, 0:-1], train_scaled[:, -1]\n",
    "X_test, Y_test = test_scaled[:, :-1], test_scaled[:, -1]\n",
    "print X_test.shape\n",
    "X_train = X_train.reshape(X_train.shape[0], X_train.shape[1], 1)\n",
    "X_test = X_test.reshape(X_test.shape[0], X_test.shape[1], 1)\n",
    "\n",
    "print (X_train.shape)\n",
    "print (X_test.shape)"
   ]
  },
  {
   "cell_type": "code",
   "execution_count": 102,
   "metadata": {
    "scrolled": true
   },
   "outputs": [],
   "source": [
    "nb_epoch = 1000\n",
    "layers = [1, 50, 100, 1]\n",
    "\n",
    "model = build_lstm(layers)\n",
    "model.fit(X_train,\n",
    "          Y_train,\n",
    "          batch_size = 1,\n",
    "          epochs = nb_epoch,\n",
    "          # validation_split = 0.05,\n",
    "          verbose = 0,\n",
    "          shuffle = False)\n",
    "\n",
    "predictions = predict(model, X_test)"
   ]
  },
  {
   "cell_type": "code",
   "execution_count": 103,
   "metadata": {},
   "outputs": [
    {
     "name": "stdout",
     "output_type": "stream",
     "text": [
      "Test MSE: 0.00088\n"
     ]
    },
    {
     "data": {
      "text/plain": [
       "[<matplotlib.lines.Line2D at 0x7fab86cd6fd0>]"
      ]
     },
     "execution_count": 103,
     "metadata": {},
     "output_type": "execute_result"
    },
    {
     "data": {
      "image/png": "[encoded data removed]",
      "text/plain": [
       "<matplotlib.figure.Figure at 0x7fab86edeb90>"
      ]
     },
     "metadata": {},
     "output_type": "display_data"
    }
   ],
   "source": [
    "error = mean_squared_error(Y_test, predictions)\n",
    "print('Test MSE: %.5f' % error)\n",
    "plt.plot(Y_test)\n",
    "plt.plot(predictions, color='red')"
   ]
  },
  {
   "cell_type": "code",
   "execution_count": 104,
   "metadata": {},
   "outputs": [
    {
     "name": "stdout",
     "output_type": "stream",
     "text": [
      "-0.877641\n",
      "-0.875598194848\n"
     ]
    }
   ],
   "source": [
    "print predictions[0]\n",
    "print Y_test[0]"
   ]
  },
  {
   "cell_type": "code",
   "execution_count": 105,
   "metadata": {},
   "outputs": [],
   "source": [
    "x_test = X_test.reshape(X_test.shape[0])\n",
    "# print X_test.shape\n",
    "\n",
    "for i in range(len(predictions)):\n",
    "    # print x_test[i].shape\n",
    "    # print predictions[i]\n",
    "    \n",
    "    #invert scaling\n",
    "    predictions[i] = invert_scale(scaler, x_test[i], predictions[i])\n",
    "    \n",
    "    #invert differencing\n",
    "    predictions[i] = inverse_difference(X, predictions[i], len(predictions)+1-i)"
   ]
  },
  {
   "cell_type": "code",
   "execution_count": 106,
   "metadata": {},
   "outputs": [
    {
     "data": {
      "text/plain": [
       "(88,)"
      ]
     },
     "execution_count": 106,
     "metadata": {},
     "output_type": "execute_result"
    }
   ],
   "source": [
    "predictions.shape"
   ]
  },
  {
   "cell_type": "code",
   "execution_count": 107,
   "metadata": {
    "collapsed": true
   },
   "outputs": [],
   "source": [
    "#inverse tramsformation\n",
    "predictions = np.exp(predictions)\n",
    "X = np.exp(X)"
   ]
  },
  {
   "cell_type": "code",
   "execution_count": 108,
   "metadata": {},
   "outputs": [
    {
     "name": "stdout",
     "output_type": "stream",
     "text": [
      "Test MSE: 0.00173\n"
     ]
    },
    {
     "data": {
      "text/plain": [
       "[<matplotlib.lines.Line2D at 0x7fab854e0f10>]"
      ]
     },
     "execution_count": 108,
     "metadata": {},
     "output_type": "execute_result"
    },
    {
     "data": {
      "image/png": "[encoded data removed]",
      "text/plain": [
       "<matplotlib.figure.Figure at 0x7fab854e0e50>"
      ]
     },
     "metadata": {},
     "output_type": "display_data"
    }
   ],
   "source": [
    "error = mean_squared_error(X[size+1:], predictions)\n",
    "print('Test MSE: %.5f' % error)\n",
    "plt.plot(X[size+1:])\n",
    "plt.plot(predictions, color='red')"
   ]
  }
 ],
 "metadata": {
  "kernelspec": {
   "display_name": "Python 2",
   "language": "python",
   "name": "python2"
  },
  "language_info": {
   "codemirror_mode": {
    "name": "ipython",
    "version": 2
   },
   "file_extension": ".py",
   "mimetype": "text/x-python",
   "name": "python",
   "nbconvert_exporter": "python",
   "pygments_lexer": "ipython2",
   "version": "2.7.13"
  }
 },
 "nbformat": 4,
 "nbformat_minor": 2
}
